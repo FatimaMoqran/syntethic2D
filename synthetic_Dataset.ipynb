{
 "cells": [
  {
   "cell_type": "markdown",
   "metadata": {},
   "source": [
    "# Apprendre à utiliser et visualiser un Dataset Synthetic\n",
    "\n",
    "A la fin de ce workshop vous saurez:\n",
    "\n",
    "- Adopter un workflow de base avec GitHub (Develop, Verify, Commit)\n",
    "- Générer un dataset synthetic de classification 2D avec la librairie sklearn\n",
    "- visualiser les classes du dataset sur un graphique 2D\n",
    "- Visualiser les prédictions de notre réseau de neurones sur un graphique 2D\n",
    "- (bonus) Introduction au refavtoring : vous refactoriserez un code jupyter pour en faire une fonction réutilisable"
   ]
  },
  {
   "cell_type": "code",
   "execution_count": 2,
   "metadata": {},
   "outputs": [],
   "source": [
    "#importer les librairies utiles\n",
    "\n",
    "import numpy as np\n",
    "import matplotlib.pyplot as plt\n",
    "from sklearn.datasets import make_moons, make_circles, make_classification\n"
   ]
  },
  {
   "cell_type": "code",
   "execution_count": 3,
   "metadata": {},
   "outputs": [
    {
     "name": "stdout",
     "output_type": "stream",
     "text": [
      "Total size: 150\n"
     ]
    }
   ],
   "source": [
    "# creer un dataset separable par une ligne droite en 2D\n",
    "\n",
    "train_size = 100\n",
    "test_size = 50\n",
    "total_size = train_size + test_size\n",
    "\n",
    "print(\"Total size:\", total_size)\n",
    "\n",
    "X,y = make_classification(n_samples = total_size,\n",
    "                           n_features= 2, n_redundant=0, n_informative = 2,\n",
    "                           random_state=1, n_clusters_per_class =1)"
   ]
  },
  {
   "cell_type": "code",
   "execution_count": 6,
   "metadata": {},
   "outputs": [
    {
     "data": {
      "text/plain": [
       "((150, 2), (150, 1))"
      ]
     },
     "execution_count": 6,
     "metadata": {},
     "output_type": "execute_result"
    }
   ],
   "source": [
    "X.shape, y.shape\n"
   ]
  },
  {
   "cell_type": "code",
   "execution_count": 7,
   "metadata": {},
   "outputs": [
    {
     "data": {
      "text/plain": [
       "(150, 1)"
      ]
     },
     "execution_count": 7,
     "metadata": {},
     "output_type": "execute_result"
    }
   ],
   "source": [
    "y = y.reshape(-1,1)\n",
    "y.shape"
   ]
  },
  {
   "cell_type": "code",
   "execution_count": 8,
   "metadata": {},
   "outputs": [
    {
     "data": {
      "text/plain": [
       "(array([[ 0.05065666, -1.04565042],\n",
       "        [ 1.89212817,  0.14141529],\n",
       "        [ 2.07731874, -1.10588188],\n",
       "        [-0.21268004,  1.55015655],\n",
       "        [ 1.33003867, -0.93929107],\n",
       "        [ 0.9684331 , -1.14497058],\n",
       "        [-0.12252602, -0.92897868],\n",
       "        [-2.11442959, -0.72665594],\n",
       "        [ 1.30958609, -1.03968501],\n",
       "        [ 1.22239591, -1.00761238]]), array([[1],\n",
       "        [0],\n",
       "        [1],\n",
       "        [0],\n",
       "        [1],\n",
       "        [1],\n",
       "        [1],\n",
       "        [1],\n",
       "        [1],\n",
       "        [1]]))"
      ]
     },
     "execution_count": 8,
     "metadata": {},
     "output_type": "execute_result"
    }
   ],
   "source": [
    "X[:10], y[:10]"
   ]
  },
  {
   "cell_type": "code",
   "execution_count": 9,
   "metadata": {},
   "outputs": [
    {
     "name": "stdout",
     "output_type": "stream",
     "text": [
      "(100, 2) (100, 1)\n",
      "(50, 2) (50, 1)\n"
     ]
    }
   ],
   "source": [
    "#séparer en train/test\n",
    "\n",
    "X_train, y_train = X[:train_size],y[:train_size]\n",
    "X_test, y_test = X[-test_size:], y[-test_size:]\n",
    "\n",
    "assert X_test.shape[0] + X_train.shape[0] == total_size\n",
    "assert y_test.shape[0] + y_train.shape[0] == total_size\n",
    "\n",
    "print(X_train.shape, y_train.shape)\n",
    "print(X_test.shape, y_test.shape)"
   ]
  },
  {
   "cell_type": "code",
   "execution_count": 10,
   "metadata": {},
   "outputs": [
    {
     "data": {
      "text/plain": [
       "<matplotlib.collections.PathCollection at 0x7f3faa48d780>"
      ]
     },
     "execution_count": 10,
     "metadata": {},
     "output_type": "execute_result"
    },
    {
     "data": {
      "image/png": "[encoded data removed]",
      "text/plain": [
       "<Figure size 432x288 with 1 Axes>"
      ]
     },
     "metadata": {
      "needs_background": "light"
     },
     "output_type": "display_data"
    }
   ],
   "source": [
    "#objectif visualiser le dataset de manière informative\n",
    "\n",
    "plt.scatter(X_train[:, 0], X_train[:, 1],\n",
    "           c = y_train[:,0],\n",
    "            cmap = plt.cm.jet)\n"
   ]
  },
  {
   "cell_type": "code",
   "execution_count": 11,
   "metadata": {},
   "outputs": [
    {
     "name": "stdout",
     "output_type": "stream",
     "text": [
      "(200, 2)\n",
      "(200,)\n",
      "\n",
      "(132, 2)\n",
      "(132, 1)\n",
      "(68, 2)\n",
      "(68, 1)\n"
     ]
    }
   ],
   "source": [
    "# créer une fonction pour creer un dataset séparable par une ligne droite en 2D\n",
    "\n",
    "def split_dataset(X, y, train_pct=0.66):\n",
    "    \"\"\" Va séparer les datasets avec respect pour le pourcentage du dataset à mettre dans le train set.\n",
    "    Warning: La dimension des exemples doit être la première.\n",
    "    \n",
    "    :X mes exemples, shape=(m, -1), m -> dimensions des exemples\n",
    "    :y mes labels, shape=(m, -1), m -> dimensions des exemples\n",
    "    :train_pct (default=0.66) Optionnal, c'est un pourcentage qui va séparer le de dataset avec train_pct * total_size dans le train set.\n",
    "    \n",
    "    return X_train, y_train, X_test, y_test \n",
    "    \n",
    "\n",
    "    >>> X_train, y_train, X_test, y_test = split_dataset(X, y)\n",
    "    \"\"\"\n",
    "    \n",
    "     # 1ere dimension -> celle des exemples\n",
    "    total_size = X.shape[0]\n",
    "    \n",
    "    if y.ndim == 1:\n",
    "        y = y.reshape(-1, 1)\n",
    "    \n",
    "    # On récupère `train_pct` % du dataset pour le train set, aussi il faut convertir en entier pour numpy ...\n",
    "    train_size = int(train_pct * total_size)\n",
    "    # ... et on met le reste danss le test set\n",
    "    test_size  = total_size - train_size \n",
    "    \n",
    "    # On met les `train_size` premier exemples/labels dans le train set ...\n",
    "    X_train, y_train = (X[:train_size], y[:train_size])\n",
    "    # ... et les test_size derniers exemples/labels dans le test set.\n",
    "    X_test , y_test  = (X[-test_size:], y[-test_size:])\n",
    "\n",
    "    # On s'assure que tous les exemples soient présents dans le test set ou le train set.\n",
    "    assert X_test.shape[0] + X_train.shape[0] == total_size\n",
    "    assert y_test.shape[0] + y_train.shape[0] == total_size\n",
    "    \n",
    "    return X_train, y_train, X_test, y_test \n",
    "\n",
    "\n",
    "\n",
    "X, y = make_classification(n_samples=200,\n",
    "                          n_features=2, n_redundant=0, n_informative=2,\n",
    "                          random_state=1, n_clusters_per_class=1)\n",
    "for each in (X, y):\n",
    "    print(each.shape)\n",
    "\n",
    "print()\n",
    "\n",
    "X_train, y_train, X_test, y_test = split_dataset(X, y)\n",
    "\n",
    "for each in (X_train, y_train, X_test, y_test):\n",
    "    print(each.shape)"
   ]
  },
  {
   "cell_type": "code",
   "execution_count": 19,
   "metadata": {},
   "outputs": [
    {
     "data": {
      "image/png": "[encoded data removed]",
      "text/plain": [
       "<Figure size 432x288 with 1 Axes>"
      ]
     },
     "metadata": {
      "needs_background": "light"
     },
     "output_type": "display_data"
    }
   ],
   "source": [
    "def plot_dataset(X,y):\n",
    "    \"\"\"\n",
    "        Permet d'afficher les classes `y` exemples à 2 features `X`\n",
    "        Warning la dimension des exemples doit être la première\n",
    "        \n",
    "        Soit m, le nombre d'exemples.\n",
    "        :X, matrices d'exemples(m,2)\n",
    "        :y, array de label shape(m,1)\n",
    "    \"\"\"\n",
    "    plt.scatter(X_train[:, 0], X_train[:, 1],\n",
    "           c = y_train[:,0],\n",
    "            cmap = plt.cm.jet)\n",
    "    return None\n",
    "\n",
    "plot_dataset(X_train,y_train)"
   ]
  },
  {
   "cell_type": "code",
   "execution_count": null,
   "metadata": {},
   "outputs": [],
   "source": []
  }
 ],
 "metadata": {
  "kernelspec": {
   "display_name": "Python 3",
   "language": "python",
   "name": "python3"
  },
  "language_info": {
   "codemirror_mode": {
    "name": "ipython",
    "version": 3
   },
   "file_extension": ".py",
   "mimetype": "text/x-python",
   "name": "python",
   "nbconvert_exporter": "python",
   "pygments_lexer": "ipython3",
   "version": "3.7.1"
  }
 },
 "nbformat": 4,
 "nbformat_minor": 2
}
